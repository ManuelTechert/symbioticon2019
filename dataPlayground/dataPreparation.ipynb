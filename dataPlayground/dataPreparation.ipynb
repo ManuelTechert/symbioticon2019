{
 "cells": [
  {
   "cell_type": "code",
   "execution_count": 1,
   "metadata": {},
   "outputs": [],
   "source": [
    "# Work with exported data from Apple Health in raw format\n",
    "# ToDo before getting going\n",
    "# pip install xmltodict"
   ]
  },
  {
   "cell_type": "code",
   "execution_count": 1,
   "metadata": {},
   "outputs": [],
   "source": [
    "# List of dependencies\n",
    "import pandas as pd\n",
    "import xmltodict"
   ]
  },
  {
   "cell_type": "code",
   "execution_count": 3,
   "metadata": {},
   "outputs": [],
   "source": [
    "# Reading in Data\n",
    "input_path = './Export.xml'\n",
    "with open(input_path, 'r') as xml_file:\n",
    "    input_data = xmltodict.parse(xml_file.read())"
   ]
  },
  {
   "cell_type": "code",
   "execution_count": 4,
   "metadata": {},
   "outputs": [],
   "source": [
    "# Getting actual heald data records\n",
    "records_list = input_data['HealthData']['Record']\n",
    "df = pd.DataFrame(records_list)"
   ]
  },
  {
   "cell_type": "code",
   "execution_count": 6,
   "metadata": {},
   "outputs": [
    {
     "data": {
      "text/plain": [
       "array(['HKQuantityTypeIdentifierDietaryWater',\n",
       "       'HKQuantityTypeIdentifierHeight',\n",
       "       'HKQuantityTypeIdentifierBodyMass',\n",
       "       'HKQuantityTypeIdentifierHeartRate',\n",
       "       'HKQuantityTypeIdentifierStepCount',\n",
       "       'HKQuantityTypeIdentifierDistanceWalkingRunning',\n",
       "       'HKQuantityTypeIdentifierBasalEnergyBurned',\n",
       "       'HKQuantityTypeIdentifierActiveEnergyBurned',\n",
       "       'HKQuantityTypeIdentifierFlightsClimbed',\n",
       "       'HKQuantityTypeIdentifierAppleExerciseTime',\n",
       "       'HKQuantityTypeIdentifierDistanceCycling',\n",
       "       'HKQuantityTypeIdentifierRestingHeartRate',\n",
       "       'HKQuantityTypeIdentifierVO2Max',\n",
       "       'HKQuantityTypeIdentifierWalkingHeartRateAverage',\n",
       "       'HKQuantityTypeIdentifierHeadphoneAudioExposure',\n",
       "       'HKCategoryTypeIdentifierSleepAnalysis',\n",
       "       'HKCategoryTypeIdentifierAppleStandHour',\n",
       "       'HKCategoryTypeIdentifierMindfulSession',\n",
       "       'HKCategoryTypeIdentifierHighHeartRateEvent',\n",
       "       'HKQuantityTypeIdentifierHeartRateVariabilitySDNN'], dtype=object)"
      ]
     },
     "execution_count": 6,
     "metadata": {},
     "output_type": "execute_result"
    }
   ],
   "source": [
    "typeOfDataPoints = df['@type'].unique()"
   ]
  },
  {
   "cell_type": "code",
   "execution_count": 31,
   "metadata": {},
   "outputs": [
    {
     "data": {
      "text/plain": [
       "array(['Mein Wasser', 'Health', 'Kurzbefehle', \"Marvin's iPhoneXs\",\n",
       "       'Connect', 'Apple\\xa0Watch von Marvin', 'Wahoo', 'ELEMNT',\n",
       "       \"Marvin's iPhone7\", 'Strava', 'Nike Training', 'Uhr', 'Calm',\n",
       "       'Headspace', 'Tide'], dtype=object)"
      ]
     },
     "execution_count": 31,
     "metadata": {},
     "output_type": "execute_result"
    }
   ],
   "source": [
    "df[\"@sourceName\"].unique()"
   ]
  },
  {
   "cell_type": "code",
   "execution_count": 50,
   "metadata": {},
   "outputs": [],
   "source": [
    "# Format time\n",
    "format = '%Y-%m-%d %H:%M:%S'\n",
    "df['@creationDate'] = pd.to_datetime(df['@creationDate'], format=format)\n",
    "df['@startDate'] = pd.to_datetime(df['@startDate'], format=format)\n",
    "df['@endDate'] = pd.to_datetime(df['@endDate'], format=format)\n",
    "\n",
    "# Filter for StepCount and Data Source\n",
    "step_counts = df[df['@type'] == 'HKQuantityTypeIdentifierStepCount']\n",
    "step_counts = step_counts[step_counts['@sourceName'].isin([\"Apple\\xa0Watch von Marvin\", \"Connect\"])]"
   ]
  },
  {
   "cell_type": "code",
   "execution_count": 51,
   "metadata": {},
   "outputs": [
    {
     "data": {
      "text/html": [
       "<div>\n",
       "<style scoped>\n",
       "    .dataframe tbody tr th:only-of-type {\n",
       "        vertical-align: middle;\n",
       "    }\n",
       "\n",
       "    .dataframe tbody tr th {\n",
       "        vertical-align: top;\n",
       "    }\n",
       "\n",
       "    .dataframe thead th {\n",
       "        text-align: right;\n",
       "    }\n",
       "</style>\n",
       "<table border=\"1\" class=\"dataframe\">\n",
       "  <thead>\n",
       "    <tr style=\"text-align: right;\">\n",
       "      <th></th>\n",
       "      <th>@type</th>\n",
       "      <th>@sourceName</th>\n",
       "      <th>@sourceVersion</th>\n",
       "      <th>@unit</th>\n",
       "      <th>@creationDate</th>\n",
       "      <th>@startDate</th>\n",
       "      <th>@endDate</th>\n",
       "      <th>@value</th>\n",
       "      <th>MetadataEntry</th>\n",
       "      <th>@device</th>\n",
       "      <th>HeartRateVariabilityMetadataList</th>\n",
       "    </tr>\n",
       "  </thead>\n",
       "  <tbody>\n",
       "    <tr>\n",
       "      <th>213165</th>\n",
       "      <td>HKQuantityTypeIdentifierStepCount</td>\n",
       "      <td>Apple Watch von Marvin</td>\n",
       "      <td>3.2.2</td>\n",
       "      <td>count</td>\n",
       "      <td>2017-05-25 07:14:50</td>\n",
       "      <td>2017-05-25 07:12:34</td>\n",
       "      <td>2017-05-25 07:13:35</td>\n",
       "      <td>22</td>\n",
       "      <td>NaN</td>\n",
       "      <td>&lt;&lt;HKDevice: 0x281f54820&gt;, name:Apple Watch, ma...</td>\n",
       "      <td>NaN</td>\n",
       "    </tr>\n",
       "    <tr>\n",
       "      <th>213166</th>\n",
       "      <td>HKQuantityTypeIdentifierStepCount</td>\n",
       "      <td>Apple Watch von Marvin</td>\n",
       "      <td>3.2.2</td>\n",
       "      <td>count</td>\n",
       "      <td>2017-05-25 07:22:58</td>\n",
       "      <td>2017-05-25 07:15:26</td>\n",
       "      <td>2017-05-25 07:16:28</td>\n",
       "      <td>20</td>\n",
       "      <td>NaN</td>\n",
       "      <td>&lt;&lt;HKDevice: 0x281f56df0&gt;, name:Apple Watch, ma...</td>\n",
       "      <td>NaN</td>\n",
       "    </tr>\n",
       "    <tr>\n",
       "      <th>213167</th>\n",
       "      <td>HKQuantityTypeIdentifierStepCount</td>\n",
       "      <td>Apple Watch von Marvin</td>\n",
       "      <td>3.2.2</td>\n",
       "      <td>count</td>\n",
       "      <td>2017-05-25 08:34:58</td>\n",
       "      <td>2017-05-25 08:23:16</td>\n",
       "      <td>2017-05-25 08:32:48</td>\n",
       "      <td>17</td>\n",
       "      <td>NaN</td>\n",
       "      <td>&lt;&lt;HKDevice: 0x281f55bd0&gt;, name:Apple Watch, ma...</td>\n",
       "      <td>NaN</td>\n",
       "    </tr>\n",
       "    <tr>\n",
       "      <th>213168</th>\n",
       "      <td>HKQuantityTypeIdentifierStepCount</td>\n",
       "      <td>Apple Watch von Marvin</td>\n",
       "      <td>3.2.2</td>\n",
       "      <td>count</td>\n",
       "      <td>2017-05-25 08:50:13</td>\n",
       "      <td>2017-05-25 08:39:31</td>\n",
       "      <td>2017-05-25 08:45:36</td>\n",
       "      <td>9</td>\n",
       "      <td>NaN</td>\n",
       "      <td>&lt;&lt;HKDevice: 0x281f55d60&gt;, name:Apple Watch, ma...</td>\n",
       "      <td>NaN</td>\n",
       "    </tr>\n",
       "    <tr>\n",
       "      <th>213169</th>\n",
       "      <td>HKQuantityTypeIdentifierStepCount</td>\n",
       "      <td>Apple Watch von Marvin</td>\n",
       "      <td>3.2.2</td>\n",
       "      <td>count</td>\n",
       "      <td>2017-05-25 08:58:00</td>\n",
       "      <td>2017-05-25 08:51:58</td>\n",
       "      <td>2017-05-25 08:53:00</td>\n",
       "      <td>36</td>\n",
       "      <td>NaN</td>\n",
       "      <td>&lt;&lt;HKDevice: 0x281f56ad0&gt;, name:Apple Watch, ma...</td>\n",
       "      <td>NaN</td>\n",
       "    </tr>\n",
       "  </tbody>\n",
       "</table>\n",
       "</div>"
      ],
      "text/plain": [
       "                                    @type             @sourceName  \\\n",
       "213165  HKQuantityTypeIdentifierStepCount  Apple Watch von Marvin   \n",
       "213166  HKQuantityTypeIdentifierStepCount  Apple Watch von Marvin   \n",
       "213167  HKQuantityTypeIdentifierStepCount  Apple Watch von Marvin   \n",
       "213168  HKQuantityTypeIdentifierStepCount  Apple Watch von Marvin   \n",
       "213169  HKQuantityTypeIdentifierStepCount  Apple Watch von Marvin   \n",
       "\n",
       "       @sourceVersion  @unit       @creationDate          @startDate  \\\n",
       "213165          3.2.2  count 2017-05-25 07:14:50 2017-05-25 07:12:34   \n",
       "213166          3.2.2  count 2017-05-25 07:22:58 2017-05-25 07:15:26   \n",
       "213167          3.2.2  count 2017-05-25 08:34:58 2017-05-25 08:23:16   \n",
       "213168          3.2.2  count 2017-05-25 08:50:13 2017-05-25 08:39:31   \n",
       "213169          3.2.2  count 2017-05-25 08:58:00 2017-05-25 08:51:58   \n",
       "\n",
       "                  @endDate @value MetadataEntry  \\\n",
       "213165 2017-05-25 07:13:35     22           NaN   \n",
       "213166 2017-05-25 07:16:28     20           NaN   \n",
       "213167 2017-05-25 08:32:48     17           NaN   \n",
       "213168 2017-05-25 08:45:36      9           NaN   \n",
       "213169 2017-05-25 08:53:00     36           NaN   \n",
       "\n",
       "                                                  @device  \\\n",
       "213165  <<HKDevice: 0x281f54820>, name:Apple Watch, ma...   \n",
       "213166  <<HKDevice: 0x281f56df0>, name:Apple Watch, ma...   \n",
       "213167  <<HKDevice: 0x281f55bd0>, name:Apple Watch, ma...   \n",
       "213168  <<HKDevice: 0x281f55d60>, name:Apple Watch, ma...   \n",
       "213169  <<HKDevice: 0x281f56ad0>, name:Apple Watch, ma...   \n",
       "\n",
       "       HeartRateVariabilityMetadataList  \n",
       "213165                              NaN  \n",
       "213166                              NaN  \n",
       "213167                              NaN  \n",
       "213168                              NaN  \n",
       "213169                              NaN  "
      ]
     },
     "execution_count": 51,
     "metadata": {},
     "output_type": "execute_result"
    }
   ],
   "source": [
    "step_counts.head()"
   ]
  },
  {
   "cell_type": "code",
   "execution_count": 52,
   "metadata": {},
   "outputs": [],
   "source": [
    "# Drop unimportant columns and convert to numeric\n",
    "columns_to_drop = [\"@sourceName\", \"@sourceVersion\", \"@startDate\", \"@endDate\", \"MetadataEntry\", \"@device\", \"HeartRateVariabilityMetadataList\"]\n",
    "step_counts = step_counts.drop(columns_to_drop, axis=1)\n",
    "step_counts.loc[:, '@value'] = pd.to_numeric(step_counts.loc[:, '@value'])"
   ]
  },
  {
   "cell_type": "code",
   "execution_count": 53,
   "metadata": {},
   "outputs": [
    {
     "data": {
      "text/html": [
       "<div>\n",
       "<style scoped>\n",
       "    .dataframe tbody tr th:only-of-type {\n",
       "        vertical-align: middle;\n",
       "    }\n",
       "\n",
       "    .dataframe tbody tr th {\n",
       "        vertical-align: top;\n",
       "    }\n",
       "\n",
       "    .dataframe thead th {\n",
       "        text-align: right;\n",
       "    }\n",
       "</style>\n",
       "<table border=\"1\" class=\"dataframe\">\n",
       "  <thead>\n",
       "    <tr style=\"text-align: right;\">\n",
       "      <th></th>\n",
       "      <th>@type</th>\n",
       "      <th>@unit</th>\n",
       "      <th>@creationDate</th>\n",
       "      <th>@value</th>\n",
       "    </tr>\n",
       "  </thead>\n",
       "  <tbody>\n",
       "    <tr>\n",
       "      <th>213165</th>\n",
       "      <td>HKQuantityTypeIdentifierStepCount</td>\n",
       "      <td>count</td>\n",
       "      <td>2017-05-25 07:14:50</td>\n",
       "      <td>22</td>\n",
       "    </tr>\n",
       "    <tr>\n",
       "      <th>213166</th>\n",
       "      <td>HKQuantityTypeIdentifierStepCount</td>\n",
       "      <td>count</td>\n",
       "      <td>2017-05-25 07:22:58</td>\n",
       "      <td>20</td>\n",
       "    </tr>\n",
       "    <tr>\n",
       "      <th>213167</th>\n",
       "      <td>HKQuantityTypeIdentifierStepCount</td>\n",
       "      <td>count</td>\n",
       "      <td>2017-05-25 08:34:58</td>\n",
       "      <td>17</td>\n",
       "    </tr>\n",
       "    <tr>\n",
       "      <th>213168</th>\n",
       "      <td>HKQuantityTypeIdentifierStepCount</td>\n",
       "      <td>count</td>\n",
       "      <td>2017-05-25 08:50:13</td>\n",
       "      <td>9</td>\n",
       "    </tr>\n",
       "    <tr>\n",
       "      <th>213169</th>\n",
       "      <td>HKQuantityTypeIdentifierStepCount</td>\n",
       "      <td>count</td>\n",
       "      <td>2017-05-25 08:58:00</td>\n",
       "      <td>36</td>\n",
       "    </tr>\n",
       "  </tbody>\n",
       "</table>\n",
       "</div>"
      ],
      "text/plain": [
       "                                    @type  @unit       @creationDate  @value\n",
       "213165  HKQuantityTypeIdentifierStepCount  count 2017-05-25 07:14:50      22\n",
       "213166  HKQuantityTypeIdentifierStepCount  count 2017-05-25 07:22:58      20\n",
       "213167  HKQuantityTypeIdentifierStepCount  count 2017-05-25 08:34:58      17\n",
       "213168  HKQuantityTypeIdentifierStepCount  count 2017-05-25 08:50:13       9\n",
       "213169  HKQuantityTypeIdentifierStepCount  count 2017-05-25 08:58:00      36"
      ]
     },
     "execution_count": 53,
     "metadata": {},
     "output_type": "execute_result"
    }
   ],
   "source": [
    "step_counts.head()"
   ]
  },
  {
   "cell_type": "code",
   "execution_count": 54,
   "metadata": {},
   "outputs": [
    {
     "data": {
      "text/plain": [
       "@creationDate\n",
       "2019-01-27    100948\n",
       "2018-08-08     62947\n",
       "2019-03-16     55034\n",
       "2019-07-10     49111\n",
       "2019-09-01     48744\n",
       "2018-06-26     47397\n",
       "2018-04-29     46286\n",
       "2019-07-16     46165\n",
       "2018-09-30     42728\n",
       "2019-04-14     41899\n",
       "Name: @value, dtype: int64"
      ]
     },
     "execution_count": 54,
     "metadata": {},
     "output_type": "execute_result"
    }
   ],
   "source": [
    "# Step count per day\n",
    "step_counts_by_creation = step_counts.groupby('@creationDate').sum()\n",
    "by_day = step_counts_by_creation['@value'].resample('D').sum()\n",
    "by_day.sort_values(ascending=False)[:10] "
   ]
  },
  {
   "cell_type": "code",
   "execution_count": 58,
   "metadata": {},
   "outputs": [
    {
     "data": {
      "text/plain": [
       "8487.22346368715"
      ]
     },
     "execution_count": 58,
     "metadata": {},
     "output_type": "execute_result"
    }
   ],
   "source": [
    "by_day.mean(axis=0)"
   ]
  },
  {
   "cell_type": "code",
   "execution_count": null,
   "metadata": {},
   "outputs": [],
   "source": []
  }
 ],
 "metadata": {
  "kernelspec": {
   "display_name": "Python 3",
   "language": "python",
   "name": "python3"
  },
  "language_info": {
   "codemirror_mode": {
    "name": "ipython",
    "version": 3
   },
   "file_extension": ".py",
   "mimetype": "text/x-python",
   "name": "python",
   "nbconvert_exporter": "python",
   "pygments_lexer": "ipython3",
   "version": "3.7.1"
  }
 },
 "nbformat": 4,
 "nbformat_minor": 2
}
